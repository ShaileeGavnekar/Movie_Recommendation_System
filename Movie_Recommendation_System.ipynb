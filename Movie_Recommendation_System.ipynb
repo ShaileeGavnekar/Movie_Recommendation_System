{
  "nbformat": 4,
  "nbformat_minor": 0,
  "metadata": {
    "colab": {
      "provenance": [],
      "authorship_tag": "ABX9TyP3MnIw4qpzWq7X3W3/y9G8",
      "include_colab_link": true
    },
    "kernelspec": {
      "name": "python3",
      "display_name": "Python 3"
    },
    "language_info": {
      "name": "python"
    }
  },
  "cells": [
    {
      "cell_type": "markdown",
      "metadata": {
        "id": "view-in-github",
        "colab_type": "text"
      },
      "source": [
        "<a href=\"https://colab.research.google.com/github/ShaileeGavnekar/Movie_Recommendation_System/blob/main/Movie_Recommendation_System.ipynb\" target=\"_parent\"><img src=\"https://colab.research.google.com/assets/colab-badge.svg\" alt=\"Open In Colab\"/></a>"
      ]
    },
    {
      "cell_type": "code",
      "execution_count": null,
      "metadata": {
        "colab": {
          "base_uri": "https://localhost:8080/"
        },
        "id": "5sYvZHVMfIxe",
        "outputId": "b238b165-fdc2-4414-c4cd-9654c90ea4b1"
      },
      "outputs": [
        {
          "output_type": "stream",
          "name": "stderr",
          "text": [
            "<ipython-input-6-971d2053a4de>:70: SettingWithCopyWarning: \n",
            "A value is trying to be set on a copy of a slice from a DataFrame.\n",
            "Try using .loc[row_indexer,col_indexer] = value instead\n",
            "\n",
            "See the caveats in the documentation: https://pandas.pydata.org/pandas-docs/stable/user_guide/indexing.html#returning-a-view-versus-a-copy\n",
            "  new['tags'] = new['tags'].apply(lambda x: \" \".join(x))\n"
          ]
        },
        {
          "output_type": "stream",
          "name": "stdout",
          "text": [
            "Movie 'Minion' not found in dataset.\n"
          ]
        }
      ],
      "source": [
        "import numpy as np\n",
        "import pandas as pd\n",
        "import matplotlib.pyplot as plt\n",
        "import ast\n",
        "from sklearn.feature_extraction.text import CountVectorizer\n",
        "from sklearn.metrics.pairwise import cosine_similarity\n",
        "\n",
        "# Load the datasets\n",
        "movies = pd.read_csv('tmdb_5000_movies.csv')\n",
        "credits = pd.read_csv('tmdb_5000_credits.csv')\n",
        "\n",
        "# Merge the datasets on the 'title' column\n",
        "movies = movies.merge(credits, on='title')\n",
        "\n",
        "# Select necessary columns\n",
        "movies = movies[['movie_id', 'title', 'overview', 'genres', 'keywords', 'cast', 'crew']]\n",
        "movies.dropna(inplace=True)\n",
        "\n",
        "# Define helper functions with error handling for malformed data\n",
        "def convert(text):\n",
        "    L = []\n",
        "    try:\n",
        "        for i in ast.literal_eval(text):\n",
        "            L.append(i['name'])\n",
        "    except (ValueError, SyntaxError):\n",
        "        pass\n",
        "    return L\n",
        "\n",
        "def convert3(text):\n",
        "    L = []\n",
        "    try:\n",
        "        for i in ast.literal_eval(text):\n",
        "            if len(L) < 3:\n",
        "                L.append(i['name'])\n",
        "    except (ValueError, SyntaxError):\n",
        "        pass\n",
        "    return L\n",
        "\n",
        "def fetch_director(text):\n",
        "    L = []\n",
        "    try:\n",
        "        for i in ast.literal_eval(text):\n",
        "            if i['job'] == 'Director':\n",
        "                L.append(i['name'])\n",
        "    except (ValueError, SyntaxError):\n",
        "        pass\n",
        "    return L\n",
        "\n",
        "def collapse(L):\n",
        "    return [i.replace(\" \", \"\") for i in L]\n",
        "\n",
        "# Apply the functions to the columns\n",
        "movies['genres'] = movies['genres'].apply(convert)\n",
        "movies['keywords'] = movies['keywords'].apply(convert)\n",
        "movies['cast'] = movies['cast'].apply(convert3)\n",
        "movies['crew'] = movies['crew'].apply(fetch_director)\n",
        "\n",
        "# Remove spaces from words for uniformity\n",
        "movies['cast'] = movies['cast'].apply(collapse)\n",
        "movies['crew'] = movies['crew'].apply(collapse)\n",
        "movies['genres'] = movies['genres'].apply(collapse)\n",
        "movies['keywords'] = movies['keywords'].apply(collapse)\n",
        "\n",
        "# Process 'overview' and create 'tags' column\n",
        "movies['overview'] = movies['overview'].apply(lambda x: x.split())\n",
        "movies['tags'] = movies['overview'] + movies['genres'] + movies['keywords'] + movies['cast'] + movies['crew']\n",
        "\n",
        "# Create a new DataFrame 'new' with only relevant columns\n",
        "new = movies[['movie_id', 'title', 'tags']]\n",
        "new['tags'] = new['tags'].apply(lambda x: \" \".join(x))\n",
        "\n",
        "# Check if 'tags' is empty\n",
        "new = new[new['tags'] != '']\n",
        "\n",
        "# Initialize CountVectorizer with max features and stop words\n",
        "cv = CountVectorizer(max_features=5000, stop_words='english')\n",
        "vector = cv.fit_transform(new['tags']).toarray()\n",
        "\n",
        "# Calculate similarity matrix\n",
        "similarity = cosine_similarity(vector)\n",
        "\n",
        "# Define recommendation function with a check for movie existence\n",
        "def recommend(movie):\n",
        "    if movie not in new['title'].values:\n",
        "        print(f\"Movie '{movie}' not found in dataset.\")\n",
        "        return\n",
        "\n",
        "    index = new[new['title'] == movie].index[0]\n",
        "    distances = sorted(list(enumerate(similarity[index])), reverse=True, key=lambda x: x[1])\n",
        "\n",
        "    print(f\"Recommendations for '{movie}':\")\n",
        "    for i in distances[1:6]:\n",
        "        print(new.iloc[i[0]].title)\n",
        "\n",
        "# Example usage\n",
        "recommend('Minion')\n"
      ]
    }
  ]
}
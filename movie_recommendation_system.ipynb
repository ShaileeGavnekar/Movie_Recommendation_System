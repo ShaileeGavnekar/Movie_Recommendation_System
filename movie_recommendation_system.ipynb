{
  "nbformat": 4,
  "nbformat_minor": 0,
  "metadata": {
    "colab": {
      "provenance": [],
      "authorship_tag": "ABX9TyPkeP1+CpS0XznqNO46xqUS",
      "include_colab_link": true
    },
    "kernelspec": {
      "name": "python3",
      "display_name": "Python 3"
    },
    "language_info": {
      "name": "python"
    }
  },
  "cells": [
    {
      "cell_type": "markdown",
      "metadata": {
        "id": "view-in-github",
        "colab_type": "text"
      },
      "source": [
        "<a href=\"https://colab.research.google.com/github/ShaileeGavnekar/Movie_Recommendation_System/blob/main/movie_recommendation_system.ipynb\" target=\"_parent\"><img src=\"https://colab.research.google.com/assets/colab-badge.svg\" alt=\"Open In Colab\"/></a>"
      ]
    },
    {
      "cell_type": "code",
      "execution_count": null,
      "metadata": {
        "colab": {
          "base_uri": "https://localhost:8080/"
        },
        "id": "5sYvZHVMfIxe",
        "outputId": "aa3423de-4810-4f41-cc6e-22e3e2a0cbd4"
      },
      "outputs": [
        {
          "output_type": "stream",
          "name": "stderr",
          "text": [
            "<ipython-input-17-5991dddc91b0>:68: SettingWithCopyWarning: \n",
            "A value is trying to be set on a copy of a slice from a DataFrame.\n",
            "Try using .loc[row_indexer,col_indexer] = value instead\n",
            "\n",
            "See the caveats in the documentation: https://pandas.pydata.org/pandas-docs/stable/user_guide/indexing.html#returning-a-view-versus-a-copy\n",
            "  new['tags'] = new['tags'].apply(lambda x: \" \".join(x))\n",
            "<ipython-input-17-5991dddc91b0>:71: SettingWithCopyWarning: \n",
            "A value is trying to be set on a copy of a slice from a DataFrame.\n",
            "Try using .loc[row_indexer,col_indexer] = value instead\n",
            "\n",
            "See the caveats in the documentation: https://pandas.pydata.org/pandas-docs/stable/user_guide/indexing.html#returning-a-view-versus-a-copy\n",
            "  new['title'] = new['title'].str.lower().str.replace(\" \", \"\")\n"
          ]
        }
      ],
      "source": [
        "import numpy as np\n",
        "import pandas as pd\n",
        "import matplotlib.pyplot as plt\n",
        "import ast\n",
        "from sklearn.feature_extraction.text import CountVectorizer\n",
        "from sklearn.metrics.pairwise import cosine_similarity\n",
        "from difflib import get_close_matches  # For fuzzy matching\n",
        "\n",
        "# Load the datasets\n",
        "movies = pd.read_csv('tmdb_5000_movies.csv')\n",
        "credits = pd.read_csv('tmdb_5000_credits.csv')\n",
        "\n",
        "# Merge the datasets on the 'title' column\n",
        "movies = movies.merge(credits, on='title')\n",
        "\n",
        "# Select necessary columns\n",
        "movies = movies[['movie_id', 'title', 'overview', 'genres', 'keywords', 'cast', 'crew']]\n",
        "movies.dropna(inplace=True)\n",
        "\n",
        "# Define helper functions\n",
        "def convert(text):\n",
        "    L = []\n",
        "    try:\n",
        "        for i in ast.literal_eval(text):\n",
        "            L.append(i['name'])\n",
        "    except (ValueError, SyntaxError):\n",
        "        pass\n",
        "    return L\n",
        "\n",
        "def convert3(text):\n",
        "    L = []\n",
        "    try:\n",
        "        for i in ast.literal_eval(text):\n",
        "            if len(L) < 3:\n",
        "                L.append(i['name'])\n",
        "    except (ValueError, SyntaxError):\n",
        "        pass\n",
        "    return L\n",
        "\n",
        "def fetch_director(text):\n",
        "    L = []\n",
        "    try:\n",
        "        for i in ast.literal_eval(text):\n",
        "            if i['job'] == 'Director':\n",
        "                L.append(i['name'])\n",
        "    except (ValueError, SyntaxError):\n",
        "        pass\n",
        "    return L\n",
        "\n",
        "def collapse(L):\n",
        "    return [i.replace(\" \", \"\") for i in L]\n",
        "\n",
        "# Apply the functions to the columns\n",
        "movies['genres'] = movies['genres'].apply(convert)\n",
        "movies['keywords'] = movies['keywords'].apply(convert)\n",
        "movies['cast'] = movies['cast'].apply(convert3)\n",
        "movies['crew'] = movies['crew'].apply(fetch_director)\n",
        "\n",
        "movies['cast'] = movies['cast'].apply(collapse)\n",
        "movies['crew'] = movies['crew'].apply(collapse)\n",
        "movies['genres'] = movies['genres'].apply(collapse)\n",
        "movies['keywords'] = movies['keywords'].apply(collapse)\n",
        "\n",
        "movies['overview'] = movies['overview'].apply(lambda x: x.split())\n",
        "movies['tags'] = movies['overview'] + movies['genres'] + movies['keywords'] + movies['cast'] + movies['crew']\n",
        "\n",
        "new = movies[['movie_id', 'title', 'tags']]\n",
        "new['tags'] = new['tags'].apply(lambda x: \" \".join(x))\n",
        "\n",
        "# Normalize titles to lowercase and strip spaces\n",
        "new['title'] = new['title'].str.lower().str.replace(\" \", \"\")\n",
        "\n",
        "cv = CountVectorizer(max_features=5000, stop_words='english')\n",
        "vector = cv.fit_transform(new['tags']).toarray()\n",
        "\n",
        "similarity = cosine_similarity(vector)\n",
        "\n",
        "\n"
      ]
    },
    {
      "cell_type": "code",
      "source": [
        "def recommend(movie):\n",
        "    movie_normalized = movie.lower().replace(\" \", \"\")  # Normalize input\n",
        "    closest_matches = get_close_matches(movie_normalized, new['title'].values, n=1, cutoff=0.6)  # Fuzzy matching\n",
        "\n",
        "    if not closest_matches:\n",
        "        print(f\"Movie '{movie}' not found in dataset.\")\n",
        "        return\n",
        "\n",
        "    matched_title = closest_matches[0]\n",
        "    index = new[new['title'] == matched_title].index[0]\n",
        "    distances = sorted(list(enumerate(similarity[index])), reverse=True, key=lambda x: x[1])\n",
        "\n",
        "    print(f\"Recommendations for '{movie}':\")\n",
        "    for i in distances[1:6]:\n",
        "        print(new.iloc[i[0]].title.title())\n",
        "\n",
        "# Example usage\n",
        "recommend('Iron Man')"
      ],
      "metadata": {
        "colab": {
          "base_uri": "https://localhost:8080/"
        },
        "id": "VqSycA1PKH_c",
        "outputId": "7cd4c041-005e-4a44-b2d5-52a43c0eecb2"
      },
      "execution_count": null,
      "outputs": [
        {
          "output_type": "stream",
          "name": "stdout",
          "text": [
            "Recommendations for 'Iron Man':\n",
            "Ironman2\n",
            "Ironman3\n",
            "Avengers:Ageofultron\n",
            "Captainamerica:Civilwar\n",
            "Theavengers\n"
          ]
        }
      ]
    }
  ]
}